{
  "nbformat": 4,
  "nbformat_minor": 0,
  "metadata": {
    "colab": {
      "provenance": []
    },
    "kernelspec": {
      "name": "python3",
      "display_name": "Python 3"
    },
    "language_info": {
      "name": "python"
    }
  },
  "cells": [
    {
      "cell_type": "markdown",
      "source": [
        "# **Tesla Stock Prediction**"
      ],
      "metadata": {
        "id": "u_UN_72716MK"
      }
    },
    {
      "cell_type": "markdown",
      "source": [
        "The purpose of this project is to be able to predict the Tesla stock price and predict if the stock price will rise during the day. The model I will be using is Multiple Linear Regression to complete the task of close price prediction and Logistic regression to determine if the stock price will be higher at close than it was at open. The goal of this project is to be able to predict the daily close price of TSLA stock and whether the stock will rise or fall between open of the stock market and close. This is interesting because being able to predict a stock's price at close and whether it will go up or down from day open to close is important information for those who trade stocks.\n",
        "https://github.com/michaelbutler2020/final_ml_project"
      ],
      "metadata": {
        "id": "-KRt--rQ5R1Z"
      }
    },
    {
      "cell_type": "markdown",
      "source": [
        "The data is from Kaggle https://www.kaggle.com/datasets/timoboz/tesla-stock-data-from-2010-to-2020 (Bozsolik, 2020). There are 2,416 rows of data which include Date, Open price, Daily low, Daily high, Close price, Adjusted close price, and volume. The open price, daily low, daily high, and volume to predict the close price. The types of data are object, Float64, and Int64. The date is the object, which will not be used in the prediction. The adjusted close price column and close price are the same data, so that column is not needed.\n",
        "\n",
        "\n",
        "    Bozsolik, Timo. “Tesla Stock Data from 2010 to 2020.”\n",
        "    Kaggle, 4 Feb. 2020, www.kaggle.com/datasets/timoboz/tesla-stock-data-from-2010-to-2020."
      ],
      "metadata": {
        "id": "_Gz7-feRTqOK"
      }
    },
    {
      "cell_type": "markdown",
      "source": [
        "A brief overview of each column in the dataset:\n",
        "Date is the date the stock market data is from.\n",
        "Open is the price of the stock at the day's open on the stock market.\n",
        "Close is the price of the stock at the day's close on the stock market.\n",
        "Low is the day's lowest price.\n",
        "High is the day's highest price.\n",
        "Volume is the trading volume for that day."
      ],
      "metadata": {
        "id": "tLFQ9-FhAW3u"
      }
    },
    {
      "cell_type": "markdown",
      "source": [
        "TODO List\n",
        "1. Explain Data, Project DONE\n",
        "2. EDA DONE\n",
        "3. Model DONE\n",
        "4. Figure out getting to github\n",
        "5. Presentation\n",
        "6. Conclusion DONE"
      ],
      "metadata": {
        "id": "FM4cwGls16fr"
      }
    },
    {
      "cell_type": "code",
      "execution_count": 138,
      "metadata": {
        "colab": {
          "base_uri": "https://localhost:8080/"
        },
        "id": "apgvBVxX05Ly",
        "outputId": "ca900f4e-649c-4272-ada1-be8deeed376c"
      },
      "outputs": [
        {
          "output_type": "stream",
          "name": "stdout",
          "text": [
            "Mounted at /content/gdrive/\n"
          ]
        }
      ],
      "source": [
        "from google.colab import drive\n",
        "\n",
        "drive.mount('/content/gdrive/', force_remount=True)"
      ]
    },
    {
      "cell_type": "markdown",
      "source": [
        "All of the libraries that are used in this project are imported here."
      ],
      "metadata": {
        "id": "wWb8Ul8WBIoB"
      }
    },
    {
      "cell_type": "code",
      "source": [
        "import pandas as pd\n",
        "import numpy as np\n",
        "import matplotlib.pyplot as plt\n",
        "import seaborn as sn\n",
        "from sklearn.model_selection import train_test_split\n",
        "from sklearn.linear_model import LinearRegression\n",
        "from sklearn.linear_model import LogisticRegression\n",
        "from sklearn.metrics import confusion_matrix\n",
        "from sklearn.metrics import ConfusionMatrixDisplay"
      ],
      "metadata": {
        "id": "EIf6gtyd2TPi"
      },
      "execution_count": 139,
      "outputs": []
    },
    {
      "cell_type": "markdown",
      "source": [
        "Pandas library is used to import the csv file."
      ],
      "metadata": {
        "id": "8EvywEcU_A2j"
      }
    },
    {
      "cell_type": "code",
      "source": [
        "data = pd.read_csv('/content/gdrive/MyDrive/TSLA.csv')"
      ],
      "metadata": {
        "id": "4LcBh5KR13W7"
      },
      "execution_count": 140,
      "outputs": []
    },
    {
      "cell_type": "markdown",
      "source": [
        "Next I adjusted some parameters so I could view the dataset better."
      ],
      "metadata": {
        "id": "UblGQNH6_B3y"
      }
    },
    {
      "cell_type": "code",
      "source": [
        "pd.options.display.width = 0\n",
        "pd.set_option('display.max_columns', 500)\n",
        "pd.set_option('display.max_rows',500)"
      ],
      "metadata": {
        "id": "ziT49KWD2Rn7"
      },
      "execution_count": 141,
      "outputs": []
    },
    {
      "cell_type": "markdown",
      "source": [
        "Here I used methods in pandas for dataframes to display the dimensions of the dataset which is 2416 rows by 7 columns. Then I took a look at the column names and the first 10 rows to get an overview of the data."
      ],
      "metadata": {
        "id": "PARc9WB0_o9v"
      }
    },
    {
      "cell_type": "code",
      "source": [
        "print(\"Total Numbers of Rows in data set: \",data.shape[0])\n",
        "print(\"Total Numbers of columns in data set: \",data.shape[1])\n",
        "col_names = data.columns\n",
        "print(col_names)\n",
        "print(data.head(10))"
      ],
      "metadata": {
        "colab": {
          "base_uri": "https://localhost:8080/"
        },
        "id": "LFphD3nI2cjm",
        "outputId": "9adc8571-5963-4122-a665-29b318cae880"
      },
      "execution_count": 142,
      "outputs": [
        {
          "output_type": "stream",
          "name": "stdout",
          "text": [
            "Total Numbers of Rows in data set:  2416\n",
            "Total Numbers of columns in data set:  7\n",
            "Index(['Date', 'Open', 'High', 'Low', 'Close', 'Adj Close', 'Volume'], dtype='object')\n",
            "         Date       Open       High        Low      Close  Adj Close    Volume\n",
            "0  2010-06-29  19.000000  25.000000  17.540001  23.889999  23.889999  18766300\n",
            "1  2010-06-30  25.790001  30.420000  23.299999  23.830000  23.830000  17187100\n",
            "2  2010-07-01  25.000000  25.920000  20.270000  21.959999  21.959999   8218800\n",
            "3  2010-07-02  23.000000  23.100000  18.709999  19.200001  19.200001   5139800\n",
            "4  2010-07-06  20.000000  20.000000  15.830000  16.110001  16.110001   6866900\n",
            "5  2010-07-07  16.400000  16.629999  14.980000  15.800000  15.800000   6921700\n",
            "6  2010-07-08  16.139999  17.520000  15.570000  17.459999  17.459999   7711400\n",
            "7  2010-07-09  17.580000  17.900000  16.549999  17.400000  17.400000   4050600\n",
            "8  2010-07-12  17.950001  18.070000  17.000000  17.049999  17.049999   2202500\n",
            "9  2010-07-13  17.389999  18.639999  16.900000  18.139999  18.139999   2680100\n"
          ]
        }
      ]
    },
    {
      "cell_type": "code",
      "source": [
        "data.info()"
      ],
      "metadata": {
        "colab": {
          "base_uri": "https://localhost:8080/"
        },
        "id": "I8ST7Mq82xKN",
        "outputId": "7569ade1-9882-461c-d5e3-a18734fc74e9"
      },
      "execution_count": 143,
      "outputs": [
        {
          "output_type": "stream",
          "name": "stdout",
          "text": [
            "<class 'pandas.core.frame.DataFrame'>\n",
            "RangeIndex: 2416 entries, 0 to 2415\n",
            "Data columns (total 7 columns):\n",
            " #   Column     Non-Null Count  Dtype  \n",
            "---  ------     --------------  -----  \n",
            " 0   Date       2416 non-null   object \n",
            " 1   Open       2416 non-null   float64\n",
            " 2   High       2416 non-null   float64\n",
            " 3   Low        2416 non-null   float64\n",
            " 4   Close      2416 non-null   float64\n",
            " 5   Adj Close  2416 non-null   float64\n",
            " 6   Volume     2416 non-null   int64  \n",
            "dtypes: float64(5), int64(1), object(1)\n",
            "memory usage: 132.2+ KB\n"
          ]
        }
      ]
    },
    {
      "cell_type": "markdown",
      "source": [
        "The data below looks overly correlated, which is not great for fitting a model, but this makes sense for the data as what happens each day is based on the day before. In this scenario this model will be predicting the close price. As stated in the opening paragraph of this project, Adj Close and Close have a correlation of 1 so it is the exact same data. I will remove that column from the dataset. I also am removing the Date column as will not be used in the predictions."
      ],
      "metadata": {
        "id": "MtZWDckgOyHL"
      }
    },
    {
      "cell_type": "code",
      "source": [
        "corr_matrix = data.corr(numeric_only = True)\n",
        "print(corr_matrix)\n",
        "data = data.drop(columns = ['Date', 'Adj Close'])\n"
      ],
      "metadata": {
        "colab": {
          "base_uri": "https://localhost:8080/"
        },
        "id": "2IrBoB2125YO",
        "outputId": "27c57eda-d042-47bf-ac9a-e0aa4013f514"
      },
      "execution_count": 144,
      "outputs": [
        {
          "output_type": "stream",
          "name": "stdout",
          "text": [
            "               Open      High       Low     Close  Adj Close    Volume\n",
            "Open       1.000000  0.999425  0.999575  0.998886   0.998886  0.501762\n",
            "High       0.999425  1.000000  0.999389  0.999640   0.999640  0.512944\n",
            "Low        0.999575  0.999389  1.000000  0.999447   0.999447  0.493496\n",
            "Close      0.998886  0.999640  0.999447  1.000000   1.000000  0.505169\n",
            "Adj Close  0.998886  0.999640  0.999447  1.000000   1.000000  0.505169\n",
            "Volume     0.501762  0.512944  0.493496  0.505169   0.505169  1.000000\n"
          ]
        }
      ]
    },
    {
      "cell_type": "markdown",
      "source": [
        "Next I looked at the histograms of each of the columns that I am using for the prediction. All of the histograms except the volume histogram are similar in shape. This is due to the price of the stock each day will be similar between Open, High, Low, and Close.  "
      ],
      "metadata": {
        "id": "x4d2B6k1SUao"
      }
    },
    {
      "cell_type": "code",
      "source": [
        "data.hist(bins = 30, edgecolor = 'black')"
      ],
      "metadata": {
        "colab": {
          "base_uri": "https://localhost:8080/",
          "height": 559
        },
        "id": "KCwwiBBoOoAk",
        "outputId": "9744d895-a6d0-44c0-c9cb-84a384c9fe77"
      },
      "execution_count": 145,
      "outputs": [
        {
          "output_type": "execute_result",
          "data": {
            "text/plain": [
              "array([[<Axes: title={'center': 'Open'}>,\n",
              "        <Axes: title={'center': 'High'}>],\n",
              "       [<Axes: title={'center': 'Low'}>,\n",
              "        <Axes: title={'center': 'Close'}>],\n",
              "       [<Axes: title={'center': 'Volume'}>, <Axes: >]], dtype=object)"
            ]
          },
          "metadata": {},
          "execution_count": 145
        },
        {
          "output_type": "display_data",
          "data": {
            "text/plain": [
              "<Figure size 640x480 with 6 Axes>"
            ],
            "image/png": "[encoded data removed]"
          },
          "metadata": {}
        }
      ]
    },
    {
      "cell_type": "markdown",
      "source": [
        "First the data will be split into x and y, with the response being y, close values, and x the predictors being the rest."
      ],
      "metadata": {
        "id": "EXBwefBw4JQg"
      }
    },
    {
      "cell_type": "code",
      "source": [
        "X = data.drop(columns=['Close'])\n",
        "y = data['Close']"
      ],
      "metadata": {
        "id": "RUywVCX-SapG"
      },
      "execution_count": 146,
      "outputs": []
    },
    {
      "cell_type": "markdown",
      "source": [
        "Then, these will be split into train and test sets using the sklearn train_test_split library."
      ],
      "metadata": {
        "id": "PhSvE80r4cqc"
      }
    },
    {
      "cell_type": "code",
      "source": [
        "X_train, X_test, y_train, y_test = train_test_split(X, y, test_size= 0.15, random_state=100)"
      ],
      "metadata": {
        "id": "xh8eP1uB33sC"
      },
      "execution_count": 147,
      "outputs": []
    },
    {
      "cell_type": "markdown",
      "source": [
        "Sklearn library Linear Regression is used to fit the model using the train and test data."
      ],
      "metadata": {
        "id": "6FuSGqxyEuYP"
      }
    },
    {
      "cell_type": "code",
      "source": [
        "model = LinearRegression()\n",
        "model.fit(X_train, y_train)"
      ],
      "metadata": {
        "colab": {
          "base_uri": "https://localhost:8080/",
          "height": 75
        },
        "id": "Dv7Yzx8W5GBk",
        "outputId": "fbf3a8b0-a2e1-4b28-eb92-23701b42c310"
      },
      "execution_count": 148,
      "outputs": [
        {
          "output_type": "execute_result",
          "data": {
            "text/plain": [
              "LinearRegression()"
            ],
            "text/html": [
              "<style>#sk-container-id-7 {color: black;background-color: white;}#sk-container-id-7 pre{padding: 0;}#sk-container-id-7 div.sk-toggleable {background-color: white;}#sk-container-id-7 label.sk-toggleable__label {cursor: pointer;display: block;width: 100%;margin-bottom: 0;padding: 0.3em;box-sizing: border-box;text-align: center;}#sk-container-id-7 label.sk-toggleable__label-arrow:before {content: \"▸\";float: left;margin-right: 0.25em;color: #696969;}#sk-container-id-7 label.sk-toggleable__label-arrow:hover:before {color: black;}#sk-container-id-7 div.sk-estimator:hover label.sk-toggleable__label-arrow:before {color: black;}#sk-container-id-7 div.sk-toggleable__content {max-height: 0;max-width: 0;overflow: hidden;text-align: left;background-color: #f0f8ff;}#sk-container-id-7 div.sk-toggleable__content pre {margin: 0.2em;color: black;border-radius: 0.25em;background-color: #f0f8ff;}#sk-container-id-7 input.sk-toggleable__control:checked~div.sk-toggleable__content {max-height: 200px;max-width: 100%;overflow: auto;}#sk-container-id-7 input.sk-toggleable__control:checked~label.sk-toggleable__label-arrow:before {content: \"▾\";}#sk-container-id-7 div.sk-estimator input.sk-toggleable__control:checked~label.sk-toggleable__label {background-color: #d4ebff;}#sk-container-id-7 div.sk-label input.sk-toggleable__control:checked~label.sk-toggleable__label {background-color: #d4ebff;}#sk-container-id-7 input.sk-hidden--visually {border: 0;clip: rect(1px 1px 1px 1px);clip: rect(1px, 1px, 1px, 1px);height: 1px;margin: -1px;overflow: hidden;padding: 0;position: absolute;width: 1px;}#sk-container-id-7 div.sk-estimator {font-family: monospace;background-color: #f0f8ff;border: 1px dotted black;border-radius: 0.25em;box-sizing: border-box;margin-bottom: 0.5em;}#sk-container-id-7 div.sk-estimator:hover {background-color: #d4ebff;}#sk-container-id-7 div.sk-parallel-item::after {content: \"\";width: 100%;border-bottom: 1px solid gray;flex-grow: 1;}#sk-container-id-7 div.sk-label:hover label.sk-toggleable__label {background-color: #d4ebff;}#sk-container-id-7 div.sk-serial::before {content: \"\";position: absolute;border-left: 1px solid gray;box-sizing: border-box;top: 0;bottom: 0;left: 50%;z-index: 0;}#sk-container-id-7 div.sk-serial {display: flex;flex-direction: column;align-items: center;background-color: white;padding-right: 0.2em;padding-left: 0.2em;position: relative;}#sk-container-id-7 div.sk-item {position: relative;z-index: 1;}#sk-container-id-7 div.sk-parallel {display: flex;align-items: stretch;justify-content: center;background-color: white;position: relative;}#sk-container-id-7 div.sk-item::before, #sk-container-id-7 div.sk-parallel-item::before {content: \"\";position: absolute;border-left: 1px solid gray;box-sizing: border-box;top: 0;bottom: 0;left: 50%;z-index: -1;}#sk-container-id-7 div.sk-parallel-item {display: flex;flex-direction: column;z-index: 1;position: relative;background-color: white;}#sk-container-id-7 div.sk-parallel-item:first-child::after {align-self: flex-end;width: 50%;}#sk-container-id-7 div.sk-parallel-item:last-child::after {align-self: flex-start;width: 50%;}#sk-container-id-7 div.sk-parallel-item:only-child::after {width: 0;}#sk-container-id-7 div.sk-dashed-wrapped {border: 1px dashed gray;margin: 0 0.4em 0.5em 0.4em;box-sizing: border-box;padding-bottom: 0.4em;background-color: white;}#sk-container-id-7 div.sk-label label {font-family: monospace;font-weight: bold;display: inline-block;line-height: 1.2em;}#sk-container-id-7 div.sk-label-container {text-align: center;}#sk-container-id-7 div.sk-container {/* jupyter's `normalize.less` sets `[hidden] { display: none; }` but bootstrap.min.css set `[hidden] { display: none !important; }` so we also need the `!important` here to be able to override the default hidden behavior on the sphinx rendered scikit-learn.org. See: https://github.com/scikit-learn/scikit-learn/issues/21755 */display: inline-block !important;position: relative;}#sk-container-id-7 div.sk-text-repr-fallback {display: none;}</style><div id=\"sk-container-id-7\" class=\"sk-top-container\"><div class=\"sk-text-repr-fallback\"><pre>LinearRegression()</pre><b>In a Jupyter environment, please rerun this cell to show the HTML representation or trust the notebook. <br />On GitHub, the HTML representation is unable to render, please try loading this page with nbviewer.org.</b></div><div class=\"sk-container\" hidden><div class=\"sk-item\"><div class=\"sk-estimator sk-toggleable\"><input class=\"sk-toggleable__control sk-hidden--visually\" id=\"sk-estimator-id-7\" type=\"checkbox\" checked><label for=\"sk-estimator-id-7\" class=\"sk-toggleable__label sk-toggleable__label-arrow\">LinearRegression</label><div class=\"sk-toggleable__content\"><pre>LinearRegression()</pre></div></div></div></div></div>"
            ]
          },
          "metadata": {},
          "execution_count": 148
        }
      ]
    },
    {
      "cell_type": "markdown",
      "source": [
        "The score method here is used. The X_test dataset is used to predict and is scored against the actuals which is y_test. The coefficients for the data are also included here. It is significant that the last value is much smaller than the others, but this is for Volume which is a much larger number than the rest. Each of the other values in Open, High, Low, and Close are relevant."
      ],
      "metadata": {
        "id": "Tz4OsdcmE6Wr"
      }
    },
    {
      "cell_type": "code",
      "source": [
        "print(\"The score of the model when predicting using the test data is: \", model.score(X_test, y_test))\n",
        "print(model.coef_)"
      ],
      "metadata": {
        "colab": {
          "base_uri": "https://localhost:8080/"
        },
        "id": "r9_WAp1i5dzT",
        "outputId": "071f2482-c44d-4fb9-b439-6e5252115524"
      },
      "execution_count": 149,
      "outputs": [
        {
          "output_type": "stream",
          "name": "stdout",
          "text": [
            "The score of the model when predicting using the test data is:  0.9996981904309867\n",
            "[-6.76151289e-01  9.01275227e-01  7.74224517e-01 -2.26327573e-08]\n"
          ]
        }
      ]
    },
    {
      "cell_type": "markdown",
      "source": [
        "Another way I would like to evaluate this is by looking at on average, how far off the prediction away from the actual. This will be done by computing the Residual Sum of Squares. This is found by computing the sum of the difference between predicted value and the actual value squared. This metric is another way of showing how accurate the model is at predicting. In a prediction using 363 values and predicting the price, an RSS value of 1542.49 is a little high, but that is to be expected as there is high variance in what happens with stocks."
      ],
      "metadata": {
        "id": "Td8TtfSCMknZ"
      }
    },
    {
      "cell_type": "code",
      "source": [
        "RSS = 0\n",
        "preds1 = model.predict(X_test)\n",
        "for i in range(len(y_test)):\n",
        "  #print(list(y_test)[i])\n",
        "  RSS += (preds1[i] - list(y_test)[i])**2\n",
        "print(\"The Residual Sum of Squares is: \", RSS)\n"
      ],
      "metadata": {
        "colab": {
          "base_uri": "https://localhost:8080/"
        },
        "id": "K1vWlIRqMgMF",
        "outputId": "d113bd91-400f-4657-fa41-f841fe041d23"
      },
      "execution_count": 150,
      "outputs": [
        {
          "output_type": "stream",
          "name": "stdout",
          "text": [
            "The Residual Sum of Squares is:  1542.4963892058004\n"
          ]
        }
      ]
    },
    {
      "cell_type": "markdown",
      "source": [
        "The linear model is very accurate, so now to continue the research of predicting this data, I will use logistic regression to predict whether the stock will rise or fall based on the high, low, and Open of the stock each day. I did not include Close as the point of this is to predict if it is higher or lower. In the cell below, a new column is added which is called \"Rise\". This designates the stock rises in value from day open to close."
      ],
      "metadata": {
        "id": "eaAJe4Ay9nwU"
      }
    },
    {
      "cell_type": "code",
      "source": [
        "UP = [0] *len(data['Close'])\n",
        "for i in range(len(data['Close'])):\n",
        "  if data['Close'][i]-data['Open'][i] > 0:\n",
        "    UP[i] = 1\n",
        "data['Rise'] = UP"
      ],
      "metadata": {
        "id": "ZlKwga2i5sMJ"
      },
      "execution_count": 151,
      "outputs": []
    },
    {
      "cell_type": "markdown",
      "source": [
        "The data is split into X and Y as well as training and test data."
      ],
      "metadata": {
        "id": "PVoKucLU-rU_"
      }
    },
    {
      "cell_type": "code",
      "source": [
        "X_log = data[['Low', 'High', 'Open', 'Volume']]\n",
        "y_log = data['Rise']\n",
        "X_log_train, X_log_test, y_log_train, y_log_test = train_test_split(X_log, y_log, test_size= .15, random_state= 100)"
      ],
      "metadata": {
        "id": "RQNL6afo6UpM"
      },
      "execution_count": 152,
      "outputs": []
    },
    {
      "cell_type": "markdown",
      "source": [
        "The Logistic Regression model is created and fit to the training data. Then the model is used to predict our y value using the test data."
      ],
      "metadata": {
        "id": "2D0pZqxaBQcA"
      }
    },
    {
      "cell_type": "code",
      "source": [
        "model = LogisticRegression().fit(X_log_train, y_log_train)\n",
        "predictions = model.predict(X_log_test)"
      ],
      "metadata": {
        "id": "iFvnXo-F_KIG"
      },
      "execution_count": 153,
      "outputs": []
    },
    {
      "cell_type": "markdown",
      "source": [
        "The code below compares the predictions to the actuals of the test data to compute accuracy."
      ],
      "metadata": {
        "id": "gFM-TIMSBoKO"
      }
    },
    {
      "cell_type": "code",
      "source": [
        "ans = 0\n",
        "for i in range(len(y_log_test)):\n",
        "  if list(y_log_test)[i] == predictions[i]:\n",
        "    ans+=1\n",
        "print(\"The accuracy of this model is: \", round(ans/len(y_log_test), 2))"
      ],
      "metadata": {
        "colab": {
          "base_uri": "https://localhost:8080/"
        },
        "id": "tqlhR8r5_lSa",
        "outputId": "8264a7f6-e25a-47b0-d7c4-f85ab0cefe2b"
      },
      "execution_count": 154,
      "outputs": [
        {
          "output_type": "stream",
          "name": "stdout",
          "text": [
            "The accuracy of this model is:  0.5\n"
          ]
        }
      ]
    },
    {
      "cell_type": "markdown",
      "source": [
        "This model is not very accurate. After looking at the predictions, every single outcome is the same as not an increase. This is likely due to one predictor and means this model is not usable. I will remove one predictor and cycle through each one to find which is causing this."
      ],
      "metadata": {
        "id": "oEwjLn79oglB"
      }
    },
    {
      "cell_type": "code",
      "source": [
        "print(predictions)"
      ],
      "metadata": {
        "colab": {
          "base_uri": "https://localhost:8080/"
        },
        "id": "-nrL2nLSCVEG",
        "outputId": "4a9953a3-7c27-4eeb-fe37-c045939c20f6"
      },
      "execution_count": 155,
      "outputs": [
        {
          "output_type": "stream",
          "name": "stdout",
          "text": [
            "[0 0 0 0 0 0 0 0 0 0 0 0 0 0 0 0 0 0 0 0 0 0 0 0 0 0 0 0 0 0 0 0 0 0 0 0 0\n",
            " 0 0 0 0 0 0 0 0 0 0 0 0 0 0 0 0 0 0 0 0 0 0 0 0 0 0 0 0 0 0 0 0 0 0 0 0 0\n",
            " 0 0 0 0 0 0 0 0 0 0 0 0 0 0 0 0 0 0 0 0 0 0 0 0 0 0 0 0 0 0 0 0 0 0 0 0 0\n",
            " 0 0 0 0 0 0 0 0 0 0 0 0 0 0 0 0 0 0 0 0 0 0 0 0 0 0 0 0 0 0 0 0 0 0 0 0 0\n",
            " 0 0 0 0 0 0 0 0 0 0 0 0 0 0 0 0 0 0 0 0 0 0 0 0 0 0 0 0 0 0 0 0 0 0 0 0 0\n",
            " 0 0 0 0 0 0 0 0 0 0 0 0 0 0 0 0 0 0 0 0 0 0 0 0 0 0 0 0 0 0 0 0 0 0 0 0 0\n",
            " 0 0 0 0 0 0 0 0 0 0 0 0 0 0 0 0 0 0 0 0 0 0 0 0 0 0 0 0 0 0 0 0 0 0 0 0 0\n",
            " 0 0 0 0 0 0 0 0 0 0 0 0 0 0 0 0 0 0 0 0 0 0 0 0 0 0 0 0 0 0 0 0 0 0 0 0 0\n",
            " 0 0 0 0 0 0 0 0 0 0 0 0 0 0 0 0 0 0 0 0 0 0 0 0 0 0 0 0 0 0 0 0 0 0 0 0 0\n",
            " 0 0 0 0 0 0 0 0 0 0 0 0 0 0 0 0 0 0 0 0 0 0 0 0 0 0 0 0 0 0]\n"
          ]
        }
      ]
    },
    {
      "cell_type": "markdown",
      "source": [
        "The predictor that was causing issues was Volume of transactions. The score jumped up by .35 so it is obvious this was the reason that the score was low and the model was predicting every input as not an increase."
      ],
      "metadata": {
        "id": "ga2dSfSxFO8F"
      }
    },
    {
      "cell_type": "code",
      "source": [
        "Column_to_remove = 0\n",
        "best_accuracy = 0\n",
        "for x in X_log_train.columns:\n",
        "  X_temp_train = X_log_train.drop(columns=[x])\n",
        "  X_temp_test = X_log_test.drop(columns=[x])\n",
        "  model = LogisticRegression().fit(X_temp_train, y_log_train)\n",
        "  score = model.score(X_temp_test, y_log_test)\n",
        "  print(score)\n",
        "  if score > best_accuracy:\n",
        "    best_accuracy = score\n",
        "    Column_to_remove = x\n",
        "print(\"The best accuracy is: \", best_accuracy)\n",
        "print(\"The predictor to remove is: \", Column_to_remove)"
      ],
      "metadata": {
        "colab": {
          "base_uri": "https://localhost:8080/"
        },
        "id": "GBpIwyaUCiR7",
        "outputId": "70c5e242-6e21-4049-aeef-304adc91bc43"
      },
      "execution_count": 156,
      "outputs": [
        {
          "output_type": "stream",
          "name": "stdout",
          "text": [
            "0.4986225895316804\n",
            "0.4986225895316804\n",
            "0.4986225895316804\n",
            "0.8457300275482094\n",
            "The best accuracy is:  0.8457300275482094\n",
            "The predictor to remove is:  Volume\n"
          ]
        }
      ]
    },
    {
      "cell_type": "markdown",
      "source": [
        "When removing the predictor Volume, we will keep the same split and continue trying to improve the accuracy. This will be done by trying two different penalties while using the solver 'lbfgs'."
      ],
      "metadata": {
        "id": "BIPoaI2otllm"
      }
    },
    {
      "cell_type": "code",
      "source": [
        "X_log_train = X_log_train.drop(columns=['Volume'])\n",
        "X_log_test = X_log_test.drop(columns=['Volume'])\n",
        "best_accuracy = 0\n",
        "best_penalty = 0\n",
        "accuracies = []\n",
        "\n",
        "for j in ['l2', 'none']:\n",
        "  model = LogisticRegression(penalty = j).fit(X_log_train, y_log_train)\n",
        "  score = model.score(X_log_test, y_log_test)\n",
        "  print(score)\n",
        "  if score > best_accuracy:\n",
        "    best_accuracy = score\n",
        "    best_penalty = j\n",
        "    best_mod = model\n"
      ],
      "metadata": {
        "colab": {
          "base_uri": "https://localhost:8080/"
        },
        "id": "g-LZdiJNsWAw",
        "outputId": "7c34ee35-9b88-4d32-ae26-68c725380adc"
      },
      "execution_count": 157,
      "outputs": [
        {
          "output_type": "stream",
          "name": "stdout",
          "text": [
            "0.8457300275482094\n",
            "0.8484848484848485\n"
          ]
        },
        {
          "output_type": "stream",
          "name": "stderr",
          "text": [
            "/usr/local/lib/python3.10/dist-packages/sklearn/linear_model/_logistic.py:1173: FutureWarning: `penalty='none'`has been deprecated in 1.2 and will be removed in 1.4. To keep the past behaviour, set `penalty=None`.\n",
            "  warnings.warn(\n"
          ]
        }
      ]
    },
    {
      "cell_type": "code",
      "source": [
        "print(\"The better penalty to have a higher accuracy is \", best_penalty, \"and the accuracy to accompany that is \", best_accuracy)"
      ],
      "metadata": {
        "colab": {
          "base_uri": "https://localhost:8080/"
        },
        "id": "RNVYlwvy1zoD",
        "outputId": "0b44d4af-350a-4f39-8ef2-a9293c76ab56"
      },
      "execution_count": 158,
      "outputs": [
        {
          "output_type": "stream",
          "name": "stdout",
          "text": [
            "The better penalty to have a higher accuracy is  none and the accuracy to accompany that is  0.8484848484848485\n"
          ]
        }
      ]
    },
    {
      "cell_type": "markdown",
      "source": [
        "## Conclusion\n"
      ],
      "metadata": {
        "id": "F8IhihuuTzgJ"
      }
    },
    {
      "cell_type": "markdown",
      "source": [
        "The purpose of this project was to train a linear regression model to predict the close price and a logistic regression to predict whether the stock would be higher at the close of the day than the open.\n",
        "The first model that was created was to predict the price at close. This was done using linear regression and 15% of the data used to test. The method score() was used to score the data using the X and y test data and had a very high score of 0.999. This seemed really high so I decided to look at the Residual Sum of Squares. This value came out to 1,542.49. This value is a little high considering the data set is only 363 values, but in all it is reasonable because stocks in principle are inconsistent an unpredictable.\n",
        "The next models were logistic regression using 15% of the data to test. The first model was using the predictors Low, High, Open, and Volume and these had a very low accuracy of 0.5. Taking a look at this further, the model predicted all of the test data as not increasing in value. I took this as one of my predictors was altering the model. Through iteration, when volume was removed, the accuracy improved to 0.846. This is a significant increase  and to further improve accuracy, the two penalties that are able to be used with solver ‘lbfgs’ are ‘l1’ and ‘none’.  This increased the accuracy to 0.849, which is significant enough to think it would do better.\n",
        "In all, these models when given more recent data are well trained enough to predict which days will be good to buy and sell and what the close will be. A few graphs representing the accuracy of the data can be seen below."
      ],
      "metadata": {
        "id": "XP8LKm3sXYfR"
      }
    },
    {
      "cell_type": "markdown",
      "source": [
        "Below is a residual plot that shows the residuals of each predicted value compared to the actual based on the Open price. It can be seen that there might be some homoscedasticity violations. The variance in residuals is very small when the Open value is closer to 0 and variance very large when Open price is between 200 and 400."
      ],
      "metadata": {
        "id": "Qdsg6rnCtOzY"
      }
    },
    {
      "cell_type": "code",
      "source": [
        "residuals = []\n",
        "preds1 = list(preds1)\n",
        "for i in range(len(preds1)):\n",
        "  residuals.append(list(y_log_test)[i]-preds1[i])\n",
        "sn.residplot(x = X_log_test['Open'], y = residuals)\n"
      ],
      "metadata": {
        "colab": {
          "base_uri": "https://localhost:8080/",
          "height": 469
        },
        "id": "mDOZsoFFiFD1",
        "outputId": "e73af411-385b-4387-9087-01b1b73c450c"
      },
      "execution_count": 161,
      "outputs": [
        {
          "output_type": "execute_result",
          "data": {
            "text/plain": [
              "<Axes: xlabel='Open'>"
            ]
          },
          "metadata": {},
          "execution_count": 161
        },
        {
          "output_type": "display_data",
          "data": {
            "text/plain": [
              "<Figure size 640x480 with 1 Axes>"
            ],
            "image/png": "[encoded data removed]"
          },
          "metadata": {}
        }
      ]
    },
    {
      "cell_type": "markdown",
      "source": [
        "Below is a confusion matrix comparing the predicted vs actuals of the logistic regression predicting if the stock would go up. The majority are correct in the yellow color and there are approximately equal numbers of each misassigned prediction."
      ],
      "metadata": {
        "id": "fF5t2rmchqR3"
      }
    },
    {
      "cell_type": "code",
      "source": [
        "preds = model.predict(X_log_test)\n",
        "print(list(preds))\n",
        "cm = confusion_matrix(list(y_log_test), list(preds), labels = [0, 1])\n",
        "disp = ConfusionMatrixDisplay(confusion_matrix=cm,\n",
        "                              display_labels=['Trended Down', 'Trended Up'])\n",
        "disp.plot()"
      ],
      "metadata": {
        "colab": {
          "base_uri": "https://localhost:8080/",
          "height": 505
        },
        "id": "W8QjpCbIhk3Q",
        "outputId": "76da7bcb-4f1e-4ac9-efa6-140bc6113e96"
      },
      "execution_count": 159,
      "outputs": [
        {
          "output_type": "stream",
          "name": "stdout",
          "text": [
            "[0, 1, 1, 1, 0, 0, 0, 1, 1, 0, 0, 1, 1, 1, 0, 1, 0, 1, 1, 1, 1, 0, 0, 1, 0, 0, 0, 0, 0, 1, 1, 1, 1, 1, 1, 0, 0, 0, 1, 0, 1, 0, 1, 0, 1, 1, 0, 0, 1, 0, 0, 0, 0, 1, 1, 1, 0, 1, 1, 0, 1, 1, 1, 1, 0, 1, 0, 0, 1, 0, 0, 1, 1, 1, 1, 0, 1, 1, 1, 0, 1, 1, 1, 1, 1, 0, 0, 1, 0, 0, 0, 1, 0, 1, 0, 0, 0, 0, 1, 0, 0, 0, 0, 1, 0, 0, 0, 0, 0, 1, 0, 1, 0, 1, 0, 0, 1, 0, 1, 0, 1, 1, 1, 1, 0, 0, 1, 1, 0, 0, 1, 1, 0, 0, 0, 0, 0, 1, 0, 0, 0, 0, 1, 1, 1, 1, 1, 1, 0, 0, 1, 0, 0, 0, 0, 1, 1, 1, 1, 1, 1, 0, 0, 1, 0, 0, 1, 0, 1, 0, 1, 1, 0, 1, 0, 1, 0, 1, 0, 1, 0, 1, 0, 1, 1, 0, 1, 1, 1, 1, 0, 0, 0, 0, 1, 0, 0, 1, 0, 0, 1, 1, 0, 1, 0, 0, 0, 0, 0, 0, 1, 0, 1, 0, 1, 1, 1, 1, 1, 1, 1, 1, 1, 1, 0, 0, 1, 1, 0, 1, 1, 0, 1, 0, 0, 1, 0, 0, 1, 0, 1, 1, 0, 0, 0, 1, 1, 0, 1, 1, 0, 1, 0, 1, 0, 0, 1, 0, 0, 1, 1, 0, 0, 0, 0, 1, 0, 1, 0, 1, 0, 0, 1, 0, 0, 0, 0, 1, 0, 0, 0, 0, 1, 0, 0, 1, 0, 0, 0, 0, 1, 1, 1, 1, 1, 0, 0, 1, 1, 1, 1, 0, 0, 1, 1, 1, 0, 1, 1, 0, 1, 0, 0, 1, 0, 1, 0, 0, 0, 0, 1, 0, 0, 0, 1, 0, 0, 1, 1, 1, 1, 1, 0, 1, 1, 0, 0, 0, 1, 0, 0, 0, 1, 1, 1, 0, 1, 1, 1, 0, 0, 1, 1, 1, 0, 1, 1, 0, 0, 0, 1, 1, 0]\n"
          ]
        },
        {
          "output_type": "execute_result",
          "data": {
            "text/plain": [
              "<sklearn.metrics._plot.confusion_matrix.ConfusionMatrixDisplay at 0x7f895a245360>"
            ]
          },
          "metadata": {},
          "execution_count": 159
        },
        {
          "output_type": "display_data",
          "data": {
            "text/plain": [
              "<Figure size 640x480 with 2 Axes>"
            ],
            "image/png": "[encoded data removed]"
          },
          "metadata": {}
        }
      ]
    },
    {
      "cell_type": "markdown",
      "source": [
        "There are some ways that this project could be built upon or improved in the future. This can include bringing in more recent data and using that as the test set with the original data used for testing, using the previous day's high and low as well as the close price to predict if the stock will go up or down in value during the next day.   \n",
        " One thing that was interesting is that the Volume predictor severely interfered with predicting whether the stock price would go up or down. In future experimentation, I would like to figure out why this causes the tests to all pass or all fail and if it is a predictor that can be used or if it is just not able to help predict the data. I think that this does not work because there is no specification of buying versus selling and more how much the stock was transacted on. If this was two different columns with amount sold and amount purchased, it would be a key predictor in this model.    \n",
        " The big take away of something that I learned is that predictors will not always work how you expect them to. In this data, I thought that the volume column would be a very important predictor for the model. This was the contrary as in the linear model, the coefficient was very small and the logistic model it completely interfered with predictions."
      ],
      "metadata": {
        "id": "GWj7EDok8qzT"
      }
    },
    {
      "cell_type": "code",
      "source": [],
      "metadata": {
        "id": "DswJOr4Us9zf"
      },
      "execution_count": null,
      "outputs": []
    }
  ]
}